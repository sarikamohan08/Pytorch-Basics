{
 "cells": [
  {
   "cell_type": "code",
   "execution_count": 1,
   "metadata": {},
   "outputs": [],
   "source": [
    "import numpy as np\n",
    "import torch\n",
    "import os"
   ]
  },
  {
   "cell_type": "code",
   "execution_count": 2,
   "metadata": {},
   "outputs": [
    {
     "data": {
      "text/plain": [
       "tensor([[0.8187, 0.8602, 0.5961, 0.4385],\n",
       "        [0.6432, 0.3944, 0.4123, 0.1063],\n",
       "        [0.0139, 0.1774, 0.4184, 0.9227]])"
      ]
     },
     "execution_count": 2,
     "metadata": {},
     "output_type": "execute_result"
    }
   ],
   "source": [
    "x = torch.rand(size=(3,4))\n",
    "x"
   ]
  },
  {
   "cell_type": "markdown",
   "metadata": {},
   "source": [
    "x[row, cols]\n",
    "\n",
    "row -> start:stop:step\n",
    "\n",
    "col -> start:stop:step"
   ]
  },
  {
   "cell_type": "code",
   "execution_count": 6,
   "metadata": {},
   "outputs": [
    {
     "data": {
      "text/plain": [
       "tensor([0.8187, 0.8602, 0.5961, 0.4385])"
      ]
     },
     "execution_count": 6,
     "metadata": {},
     "output_type": "execute_result"
    }
   ],
   "source": [
    "x[0,:]"
   ]
  },
  {
   "cell_type": "code",
   "execution_count": 7,
   "metadata": {},
   "outputs": [
    {
     "data": {
      "text/plain": [
       "tensor([0.8187, 0.6432, 0.0139])"
      ]
     },
     "execution_count": 7,
     "metadata": {},
     "output_type": "execute_result"
    }
   ],
   "source": [
    "x[:,0]"
   ]
  },
  {
   "cell_type": "code",
   "execution_count": 11,
   "metadata": {},
   "outputs": [
    {
     "data": {
      "text/plain": [
       "tensor([[0.8187, 0.8602, 0.5961, 0.4385],\n",
       "        [0.6432, 0.3944, 0.4123, 0.1063]])"
      ]
     },
     "execution_count": 11,
     "metadata": {},
     "output_type": "execute_result"
    }
   ],
   "source": [
    "x[0:2,0:4]"
   ]
  },
  {
   "cell_type": "code",
   "execution_count": 12,
   "metadata": {},
   "outputs": [
    {
     "data": {
      "text/plain": [
       "tensor(0.8187)"
      ]
     },
     "execution_count": 12,
     "metadata": {},
     "output_type": "execute_result"
    }
   ],
   "source": [
    "x[0,0]"
   ]
  },
  {
   "cell_type": "code",
   "execution_count": 14,
   "metadata": {},
   "outputs": [],
   "source": [
    "x[0,0]=11"
   ]
  },
  {
   "cell_type": "code",
   "execution_count": 15,
   "metadata": {},
   "outputs": [],
   "source": [
    "x = torch.rand(size=(3,4))\n",
    "y = torch.rand(size=(3,4))"
   ]
  },
  {
   "cell_type": "markdown",
   "metadata": {},
   "source": [
    "Concatination"
   ]
  },
  {
   "cell_type": "code",
   "execution_count": 16,
   "metadata": {},
   "outputs": [
    {
     "data": {
      "text/plain": [
       "tensor([[0.5482, 0.5042, 0.5626, 0.0415, 0.3887, 0.3317, 0.0151, 0.4223],\n",
       "        [0.9129, 0.0233, 0.1488, 0.7407, 0.4347, 0.2629, 0.8923, 0.4291],\n",
       "        [0.0048, 0.2082, 0.8398, 0.0559, 0.1765, 0.1434, 0.6782, 0.0364]])"
      ]
     },
     "execution_count": 16,
     "metadata": {},
     "output_type": "execute_result"
    }
   ],
   "source": [
    "torch.cat((x, y), dim=1)"
   ]
  },
  {
   "cell_type": "code",
   "execution_count": 17,
   "metadata": {},
   "outputs": [
    {
     "data": {
      "text/plain": [
       "tensor([[0.5482, 0.5042, 0.5626, 0.0415],\n",
       "        [0.9129, 0.0233, 0.1488, 0.7407],\n",
       "        [0.0048, 0.2082, 0.8398, 0.0559],\n",
       "        [0.3887, 0.3317, 0.0151, 0.4223],\n",
       "        [0.4347, 0.2629, 0.8923, 0.4291],\n",
       "        [0.1765, 0.1434, 0.6782, 0.0364]])"
      ]
     },
     "execution_count": 17,
     "metadata": {},
     "output_type": "execute_result"
    }
   ],
   "source": [
    "torch.cat((x, y), dim=0)"
   ]
  },
  {
   "cell_type": "code",
   "execution_count": 18,
   "metadata": {},
   "outputs": [
    {
     "data": {
      "text/plain": [
       "torch.Size([3, 4])"
      ]
     },
     "execution_count": 18,
     "metadata": {},
     "output_type": "execute_result"
    }
   ],
   "source": [
    "x.shape"
   ]
  },
  {
   "cell_type": "markdown",
   "metadata": {},
   "source": [
    "Reshaping"
   ]
  },
  {
   "cell_type": "code",
   "execution_count": 19,
   "metadata": {},
   "outputs": [
    {
     "data": {
      "text/plain": [
       "tensor([[0.5482, 0.5042, 0.5626, 0.0415, 0.9129, 0.0233],\n",
       "        [0.1488, 0.7407, 0.0048, 0.2082, 0.8398, 0.0559]])"
      ]
     },
     "execution_count": 19,
     "metadata": {},
     "output_type": "execute_result"
    }
   ],
   "source": [
    "x.reshape(2,6)"
   ]
  },
  {
   "cell_type": "code",
   "execution_count": 20,
   "metadata": {},
   "outputs": [
    {
     "ename": "RuntimeError",
     "evalue": "shape '[2, 3]' is invalid for input of size 12",
     "output_type": "error",
     "traceback": [
      "\u001b[1;31m---------------------------------------------------------------------------\u001b[0m",
      "\u001b[1;31mRuntimeError\u001b[0m                              Traceback (most recent call last)",
      "\u001b[1;32m~\\AppData\\Local\\Temp\\ipykernel_11516\\178061256.py\u001b[0m in \u001b[0;36m<module>\u001b[1;34m\u001b[0m\n\u001b[1;32m----> 1\u001b[1;33m \u001b[0mx\u001b[0m\u001b[1;33m.\u001b[0m\u001b[0mreshape\u001b[0m\u001b[1;33m(\u001b[0m\u001b[1;36m2\u001b[0m\u001b[1;33m,\u001b[0m\u001b[1;36m3\u001b[0m\u001b[1;33m)\u001b[0m \u001b[1;31m# no. of elements should match\u001b[0m\u001b[1;33m\u001b[0m\u001b[0m\n\u001b[0m",
      "\u001b[1;31mRuntimeError\u001b[0m: shape '[2, 3]' is invalid for input of size 12"
     ]
    }
   ],
   "source": [
    "\n",
    "x.reshape(2,3) # no. of elements should match"
   ]
  },
  {
   "cell_type": "code",
   "execution_count": 21,
   "metadata": {},
   "outputs": [
    {
     "data": {
      "text/plain": [
       "tensor([[0.5482, 0.5042, 0.5626, 0.0415, 0.9129, 0.0233, 0.1488, 0.7407, 0.0048,\n",
       "         0.2082, 0.8398, 0.0559]])"
      ]
     },
     "execution_count": 21,
     "metadata": {},
     "output_type": "execute_result"
    }
   ],
   "source": [
    "x.reshape(1,12)"
   ]
  },
  {
   "cell_type": "code",
   "execution_count": 22,
   "metadata": {},
   "outputs": [
    {
     "data": {
      "text/plain": [
       "tensor([[0.5482],\n",
       "        [0.5042],\n",
       "        [0.5626],\n",
       "        [0.0415],\n",
       "        [0.9129],\n",
       "        [0.0233],\n",
       "        [0.1488],\n",
       "        [0.7407],\n",
       "        [0.0048],\n",
       "        [0.2082],\n",
       "        [0.8398],\n",
       "        [0.0559]])"
      ]
     },
     "execution_count": 22,
     "metadata": {},
     "output_type": "execute_result"
    }
   ],
   "source": [
    "x.reshape(12,1)"
   ]
  },
  {
   "cell_type": "code",
   "execution_count": 23,
   "metadata": {},
   "outputs": [
    {
     "data": {
      "text/plain": [
       "torch.Size([3, 4])"
      ]
     },
     "execution_count": 23,
     "metadata": {},
     "output_type": "execute_result"
    }
   ],
   "source": [
    "x.shape"
   ]
  },
  {
   "cell_type": "code",
   "execution_count": 24,
   "metadata": {},
   "outputs": [
    {
     "data": {
      "text/plain": [
       "tensor([0.5482, 0.5042, 0.5626, 0.0415, 0.9129, 0.0233, 0.1488, 0.7407, 0.0048,\n",
       "        0.2082, 0.8398, 0.0559])"
      ]
     },
     "execution_count": 24,
     "metadata": {},
     "output_type": "execute_result"
    }
   ],
   "source": [
    "\n",
    "x.view(-1) # Flattening"
   ]
  },
  {
   "cell_type": "code",
   "execution_count": 25,
   "metadata": {},
   "outputs": [
    {
     "data": {
      "text/plain": [
       "torch.Size([12])"
      ]
     },
     "execution_count": 25,
     "metadata": {},
     "output_type": "execute_result"
    }
   ],
   "source": [
    "\n",
    "x.view(-1).shape # flattening a tensor"
   ]
  },
  {
   "cell_type": "code",
   "execution_count": 26,
   "metadata": {},
   "outputs": [
    {
     "data": {
      "text/plain": [
       "tensor([[0.6753, 0.7641, 0.2727, 0.7447, 0.6420, 0.3586, 0.5142, 0.7599, 0.8625,\n",
       "         0.5427],\n",
       "        [0.1613, 0.8284, 0.6049, 0.7337, 0.7649, 0.0401, 0.3695, 0.3453, 0.0837,\n",
       "         0.3592],\n",
       "        [0.2476, 0.8871, 0.7261, 0.2464, 0.7061, 0.2310, 0.9934, 0.8402, 0.0551,\n",
       "         0.8527],\n",
       "        [0.1583, 0.0856, 0.0820, 0.2453, 0.1249, 0.0757, 0.3914, 0.5854, 0.5021,\n",
       "         0.3247],\n",
       "        [0.5501, 0.1637, 0.5758, 0.9903, 0.0397, 0.2714, 0.7924, 0.2292, 0.9633,\n",
       "         0.1651],\n",
       "        [0.8209, 0.6783, 0.0718, 0.5039, 0.4829, 0.9246, 0.1145, 0.6250, 0.9392,\n",
       "         0.2322],\n",
       "        [0.7335, 0.7736, 0.1912, 0.0260, 0.4966, 0.8842, 0.8166, 0.8114, 0.3983,\n",
       "         0.7577],\n",
       "        [0.1796, 0.1671, 0.3103, 0.4982, 0.4181, 0.3645, 0.7068, 0.5101, 0.1736,\n",
       "         0.4804],\n",
       "        [0.5649, 0.5858, 0.5574, 0.3131, 0.2298, 0.2293, 0.6189, 0.7461, 0.5849,\n",
       "         0.2744],\n",
       "        [0.3509, 0.9134, 0.4071, 0.4097, 0.2577, 0.8408, 0.8537, 0.6068, 0.0995,\n",
       "         0.6237],\n",
       "        [0.3261, 0.9829, 0.8473, 0.3896, 0.4081, 0.0261, 0.2966, 0.8690, 0.2753,\n",
       "         0.3584],\n",
       "        [0.9216, 0.7146, 0.5821, 0.2436, 0.1142, 0.1321, 0.6323, 0.7189, 0.6048,\n",
       "         0.3508],\n",
       "        [0.5254, 0.7634, 0.6619, 0.3908, 0.3170, 0.9140, 0.8699, 0.2857, 0.4592,\n",
       "         0.4460],\n",
       "        [0.6669, 0.4251, 0.0994, 0.2542, 0.4529, 0.1982, 0.2162, 0.9971, 0.4545,\n",
       "         0.5302],\n",
       "        [0.4824, 0.9219, 0.4720, 0.2786, 0.6505, 0.0925, 0.9442, 0.1419, 0.5499,\n",
       "         0.3957],\n",
       "        [0.9410, 0.6456, 0.2861, 0.7307, 0.8712, 0.4418, 0.3959, 0.2800, 0.3725,\n",
       "         0.9813]])"
      ]
     },
     "execution_count": 26,
     "metadata": {},
     "output_type": "execute_result"
    }
   ],
   "source": [
    "# batch flattening ops\n",
    "batch = 16\n",
    "\n",
    "torch.rand((batch, 2,5)).view((batch, -1))"
   ]
  },
  {
   "cell_type": "code",
   "execution_count": null,
   "metadata": {},
   "outputs": [],
   "source": []
  }
 ],
 "metadata": {
  "kernelspec": {
   "display_name": "Python 3 (ipykernel)",
   "language": "python",
   "name": "python3"
  },
  "language_info": {
   "codemirror_mode": {
    "name": "ipython",
    "version": 3
   },
   "file_extension": ".py",
   "mimetype": "text/x-python",
   "name": "python",
   "nbconvert_exporter": "python",
   "pygments_lexer": "ipython3",
   "version": "3.7.0"
  },
  "vscode": {
   "interpreter": {
    "hash": "2c7d2e11d5a388eee16c289a19150cb911090e78abce2370f6eaddd20aaf8f66"
   }
  }
 },
 "nbformat": 4,
 "nbformat_minor": 2
}
