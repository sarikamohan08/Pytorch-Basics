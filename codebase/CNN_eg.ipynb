{
 "cells": [
  {
   "cell_type": "code",
   "execution_count": 1,
   "id": "09726bcc-9410-4397-8306-6e4eff4b9b5e",
   "metadata": {},
   "outputs": [
    {
     "name": "stderr",
     "output_type": "stream",
     "text": [
      "c:\\Users\\Lenono\\anaconda3\\envs\\pytorch_basics\\lib\\site-packages\\tqdm\\auto.py:21: TqdmWarning: IProgress not found. Please update jupyter and ipywidgets. See https://ipywidgets.readthedocs.io/en/stable/user_install.html\n",
      "  from .autonotebook import tqdm as notebook_tqdm\n",
      "c:\\Users\\Lenono\\anaconda3\\envs\\pytorch_basics\\lib\\site-packages\\torchvision\\io\\image.py:13: UserWarning: Failed to load image Python extension: \n",
      "  warn(f\"Failed to load image Python extension: {e}\")\n"
     ]
    }
   ],
   "source": [
    "import os\n",
    "import numpy as np\n",
    "import matplotlib.pyplot as plt\n",
    "import pandas as pd\n",
    "import seaborn as sns\n",
    "import torch\n",
    "import torch.nn as nn\n",
    "from torch.utils.data import DataLoader\n",
    "from torchvision import transforms, datasets\n",
    "import torch.nn.functional as F\n",
    "from sklearn.metrics import confusion_matrix\n",
    "from tqdm import tqdm"
   ]
  },
  {
   "cell_type": "markdown",
   "id": "445fafab-6fa0-4279-b9de-1dcf0483be2a",
   "metadata": {},
   "source": [
    "## Download dataset"
   ]
  },
  {
   "cell_type": "code",
   "execution_count": 2,
   "id": "60f60c74-9ca3-4514-a42f-b50389b70e27",
   "metadata": {},
   "outputs": [
    {
     "name": "stdout",
     "output_type": "stream",
     "text": [
      "Downloading http://fashion-mnist.s3-website.eu-central-1.amazonaws.com/train-images-idx3-ubyte.gz\n",
      "Downloading http://fashion-mnist.s3-website.eu-central-1.amazonaws.com/train-images-idx3-ubyte.gz to FashionMNISTDir1\\FashionMNIST\\raw\\train-images-idx3-ubyte.gz\n"
     ]
    },
    {
     "name": "stderr",
     "output_type": "stream",
     "text": [
      "100%|██████████| 26421880/26421880 [00:20<00:00, 1282572.20it/s]\n"
     ]
    },
    {
     "name": "stdout",
     "output_type": "stream",
     "text": [
      "Extracting FashionMNISTDir1\\FashionMNIST\\raw\\train-images-idx3-ubyte.gz to FashionMNISTDir1\\FashionMNIST\\raw\n",
      "\n",
      "Downloading http://fashion-mnist.s3-website.eu-central-1.amazonaws.com/train-labels-idx1-ubyte.gz\n",
      "Downloading http://fashion-mnist.s3-website.eu-central-1.amazonaws.com/train-labels-idx1-ubyte.gz to FashionMNISTDir1\\FashionMNIST\\raw\\train-labels-idx1-ubyte.gz\n"
     ]
    },
    {
     "name": "stderr",
     "output_type": "stream",
     "text": [
      "100%|██████████| 29515/29515 [00:00<00:00, 5078347.73it/s]\n"
     ]
    },
    {
     "name": "stdout",
     "output_type": "stream",
     "text": [
      "Extracting FashionMNISTDir1\\FashionMNIST\\raw\\train-labels-idx1-ubyte.gz to FashionMNISTDir1\\FashionMNIST\\raw\n",
      "\n",
      "Downloading http://fashion-mnist.s3-website.eu-central-1.amazonaws.com/t10k-images-idx3-ubyte.gz\n",
      "Downloading http://fashion-mnist.s3-website.eu-central-1.amazonaws.com/t10k-images-idx3-ubyte.gz to FashionMNISTDir1\\FashionMNIST\\raw\\t10k-images-idx3-ubyte.gz\n"
     ]
    },
    {
     "name": "stderr",
     "output_type": "stream",
     "text": [
      "100%|██████████| 4422102/4422102 [00:06<00:00, 702819.11it/s] \n"
     ]
    },
    {
     "name": "stdout",
     "output_type": "stream",
     "text": [
      "Extracting FashionMNISTDir1\\FashionMNIST\\raw\\t10k-images-idx3-ubyte.gz to FashionMNISTDir1\\FashionMNIST\\raw\n",
      "\n",
      "Downloading http://fashion-mnist.s3-website.eu-central-1.amazonaws.com/t10k-labels-idx1-ubyte.gz\n",
      "Downloading http://fashion-mnist.s3-website.eu-central-1.amazonaws.com/t10k-labels-idx1-ubyte.gz to FashionMNISTDir1\\FashionMNIST\\raw\\t10k-labels-idx1-ubyte.gz\n"
     ]
    },
    {
     "name": "stderr",
     "output_type": "stream",
     "text": [
      "100%|██████████| 5148/5148 [00:00<00:00, 1030362.52it/s]\n"
     ]
    },
    {
     "name": "stdout",
     "output_type": "stream",
     "text": [
      "Extracting FashionMNISTDir1\\FashionMNIST\\raw\\t10k-labels-idx1-ubyte.gz to FashionMNISTDir1\\FashionMNIST\\raw\n",
      "\n"
     ]
    }
   ],
   "source": [
    "ROOT_DATA_DIR = \"FashionMNISTDir1\"\n",
    "\n",
    "train_data = datasets.FashionMNIST(\n",
    "    root = ROOT_DATA_DIR,\n",
    "    train = True,\n",
    "    download = True,\n",
    "    transform = transforms.ToTensor()\n",
    "    )\n",
    "\n",
    "\n",
    "test_data = datasets.FashionMNIST(\n",
    "    root = ROOT_DATA_DIR,\n",
    "    train = False, ## <<< Test data\n",
    "    download = True,\n",
    "    transform = transforms.ToTensor()\n",
    "    )"
   ]
  },
  {
   "cell_type": "code",
   "execution_count": 3,
   "id": "c2f04852-f194-4812-a6fe-8557fb145ee1",
   "metadata": {},
   "outputs": [
    {
     "data": {
      "text/plain": [
       "torch.Size([60000, 28, 28])"
      ]
     },
     "execution_count": 3,
     "metadata": {},
     "output_type": "execute_result"
    }
   ],
   "source": [
    "train_data.data.shape"
   ]
  },
  {
   "cell_type": "code",
   "execution_count": 4,
   "id": "adf58954-e425-47a6-97de-3674a2e209da",
   "metadata": {},
   "outputs": [
    {
     "data": {
      "text/plain": [
       "torch.Size([10000, 28, 28])"
      ]
     },
     "execution_count": 4,
     "metadata": {},
     "output_type": "execute_result"
    }
   ],
   "source": [
    "test_data.data.shape"
   ]
  },
  {
   "cell_type": "code",
   "execution_count": 5,
   "id": "50d627a6-55c8-445f-86ce-2f2202bcdf3e",
   "metadata": {},
   "outputs": [],
   "source": [
    "label_map = {\n",
    "    0: 'T-shirt/top',\n",
    "    1: 'Trouser',\n",
    "    2: 'Pullover',\n",
    "    3:' Dress',\n",
    "    4: 'Coat',\n",
    "    5: 'Sandal',\n",
    "    6: 'Shirt',\n",
    "    7: 'Sneaker',\n",
    "    8: 'Bag',\n",
    "    9: 'Ankle boot',\n",
    "    }"
   ]
  },
  {
   "cell_type": "markdown",
   "id": "a5ee85fb-9e21-4b3c-a5c6-2a088e80f2e7",
   "metadata": {},
   "source": [
    "## Visualize one sample"
   ]
  },
  {
   "cell_type": "code",
   "execution_count": 6,
   "id": "1cc1b28d-a533-4566-81ae-a3f37471bcfd",
   "metadata": {},
   "outputs": [],
   "source": [
    "def view_sample_img(data, index, label_map):\n",
    "    plt.imshow(data.data[index], cmap=\"gray\")\n",
    "    plt.title(f\"data label: {label_map[data.targets[index].item()]}\")\n",
    "    plt.axis(\"off\")"
   ]
  },
  {
   "cell_type": "code",
   "execution_count": 7,
   "id": "76adb871-bff6-4292-b94c-94e47e8f07b1",
   "metadata": {},
   "outputs": [
    {
     "data": {
      "image/png": "[encoded data removed]",
      "text/plain": [
       "<Figure size 640x480 with 1 Axes>"
      ]
     },
     "metadata": {},
     "output_type": "display_data"
    }
   ],
   "source": [
    "view_sample_img(train_data, index=1, label_map=label_map)"
   ]
  },
  {
   "cell_type": "markdown",
   "id": "13642d17-c534-40fb-86e7-e5234a6127d0",
   "metadata": {},
   "source": [
    "## Create the dataloader"
   ]
  },
  {
   "cell_type": "code",
   "execution_count": 8,
   "id": "4b7a8c70-14d0-4a5f-9700-0fd317929074",
   "metadata": {},
   "outputs": [],
   "source": [
    "BATCH_SIZE = 64\n",
    "\n",
    "train_data_loader = DataLoader(\n",
    "    dataset = train_data,\n",
    "    batch_size = BATCH_SIZE,\n",
    "    shuffle = True\n",
    "    )\n",
    "\n",
    "test_data_loader = DataLoader(\n",
    "    dataset = test_data,\n",
    "    batch_size = BATCH_SIZE,\n",
    "    shuffle = True\n",
    "    )"
   ]
  },
  {
   "cell_type": "code",
   "execution_count": 9,
   "id": "c216a67f-9aab-4013-a270-5dbc8cbd8ff5",
   "metadata": {},
   "outputs": [
    {
     "name": "stdout",
     "output_type": "stream",
     "text": [
      "torch.Size([64, 1, 28, 28])\n",
      "torch.Size([64])\n"
     ]
    }
   ],
   "source": [
    "for data, label in test_data_loader:\n",
    "    print(data.shape)    \n",
    "    print(label.shape)\n",
    "    break"
   ]
  },
  {
   "cell_type": "markdown",
   "id": "697498b5-fbd2-47e1-8823-c983cc9c85c2",
   "metadata": {},
   "source": [
    "## CNN architecture\n",
    "\n",
    "pytorch doc - [reference](https://pytorch.org/docs/stable/generated/torch.nn.Conv2d.html?highlight=conv2d#torch.nn.Conv2d)"
   ]
  },
  {
   "cell_type": "code",
   "execution_count": 10,
   "id": "a837c0ec-c0ef-4bc9-96e4-e1cbc52a44d2",
   "metadata": {},
   "outputs": [
    {
     "data": {
      "text/plain": [
       "'cpu'"
      ]
     },
     "execution_count": 10,
     "metadata": {},
     "output_type": "execute_result"
    }
   ],
   "source": [
    "device = \"cuda\" if torch.cuda.is_available() else \"cpu\"\n",
    "device"
   ]
  },
  {
   "cell_type": "code",
   "execution_count": 22,
   "id": "94510485-d718-4912-95c9-1f06f22257ad",
   "metadata": {},
   "outputs": [],
   "source": [
    "class CNN(nn.Module):\n",
    "    def __init__(self, in_, out_):\n",
    "        super(CNN, self).__init__()\n",
    "        \n",
    "        self.conv_pool_01 = nn.Sequential(\n",
    "            nn.Conv2d(in_channels=in_, out_channels=8, kernel_size=5, stride=1, padding=0),\n",
    "            nn.ReLU(),\n",
    "            nn.MaxPool2d(kernel_size=2, stride=2)\n",
    "        )\n",
    "        \n",
    "        self.conv_pool_02 = nn.Sequential(\n",
    "            nn.Conv2d(in_channels=8, out_channels=16, kernel_size=5, stride=1, padding=0),\n",
    "            nn.ReLU(),\n",
    "            nn.MaxPool2d(kernel_size=2, stride=2)\n",
    "        )\n",
    "        \n",
    "        self.Flatten = nn.Flatten()#flattening\n",
    "        self.FC_01 = nn.Linear(in_features=16*4*4, out_features=128)#fully connected layers\n",
    "        self.FC_02 = nn.Linear(in_features=128, out_features=64)\n",
    "        self.FC_03 = nn.Linear(in_features=64, out_features=out_)\n",
    "        \n",
    "    \n",
    "    def forward(self, x):\n",
    "        x = self.conv_pool_01(x)\n",
    "        x = self.conv_pool_02(x)\n",
    "        x = self.Flatten(x)\n",
    "        x = self.FC_01(x)\n",
    "        x = self.FC_02(x)        \n",
    "        x = self.FC_03(x)\n",
    "        return x"
   ]
  },
  {
   "cell_type": "code",
   "execution_count": 23,
   "id": "62ee8c3b-01e2-4c06-b3a0-25ababc457e6",
   "metadata": {},
   "outputs": [
    {
     "data": {
      "text/plain": [
       "CNN(\n",
       "  (conv_pool_01): Sequential(\n",
       "    (0): Conv2d(1, 8, kernel_size=(5, 5), stride=(1, 1))\n",
       "    (1): ReLU()\n",
       "    (2): MaxPool2d(kernel_size=2, stride=2, padding=0, dilation=1, ceil_mode=False)\n",
       "  )\n",
       "  (conv_pool_02): Sequential(\n",
       "    (0): Conv2d(8, 16, kernel_size=(5, 5), stride=(1, 1))\n",
       "    (1): ReLU()\n",
       "    (2): MaxPool2d(kernel_size=2, stride=2, padding=0, dilation=1, ceil_mode=False)\n",
       "  )\n",
       "  (Flatten): Flatten(start_dim=1, end_dim=-1)\n",
       "  (FC_01): Linear(in_features=256, out_features=128, bias=True)\n",
       "  (FC_02): Linear(in_features=128, out_features=64, bias=True)\n",
       "  (FC_03): Linear(in_features=64, out_features=10, bias=True)\n",
       ")"
      ]
     },
     "execution_count": 23,
     "metadata": {},
     "output_type": "execute_result"
    }
   ],
   "source": [
    "model = CNN(1, 10)\n",
    "model.to(device)"
   ]
  },
  {
   "cell_type": "markdown",
   "id": "1ce4336d-8d13-4a8d-a586-393229fe248d",
   "metadata": {},
   "source": [
    "## Count no. of trainable params"
   ]
  },
  {
   "cell_type": "code",
   "execution_count": 24,
   "id": "81b2554a-c504-442f-9363-7a6b51ed1364",
   "metadata": {},
   "outputs": [
    {
     "data": {
      "text/html": [
       "<style  type=\"text/css\" >\n",
       "</style><table id=\"T_264f1bec_cc0a_11ed_8cbb_54e1adc9055d\" ><caption>Total trainable parameters: 45226</caption><thead>    <tr>        <th class=\"blank level0\" ></th>        <th class=\"col_heading level0 col0\" >Modules</th>        <th class=\"col_heading level0 col1\" >Parameters</th>    </tr></thead><tbody>\n",
       "                <tr>\n",
       "                        <th id=\"T_264f1bec_cc0a_11ed_8cbb_54e1adc9055dlevel0_row0\" class=\"row_heading level0 row0\" >0</th>\n",
       "                        <td id=\"T_264f1bec_cc0a_11ed_8cbb_54e1adc9055drow0_col0\" class=\"data row0 col0\" >conv_pool_01.0.weight</td>\n",
       "                        <td id=\"T_264f1bec_cc0a_11ed_8cbb_54e1adc9055drow0_col1\" class=\"data row0 col1\" >200</td>\n",
       "            </tr>\n",
       "            <tr>\n",
       "                        <th id=\"T_264f1bec_cc0a_11ed_8cbb_54e1adc9055dlevel0_row1\" class=\"row_heading level0 row1\" >1</th>\n",
       "                        <td id=\"T_264f1bec_cc0a_11ed_8cbb_54e1adc9055drow1_col0\" class=\"data row1 col0\" >conv_pool_01.0.bias</td>\n",
       "                        <td id=\"T_264f1bec_cc0a_11ed_8cbb_54e1adc9055drow1_col1\" class=\"data row1 col1\" >8</td>\n",
       "            </tr>\n",
       "            <tr>\n",
       "                        <th id=\"T_264f1bec_cc0a_11ed_8cbb_54e1adc9055dlevel0_row2\" class=\"row_heading level0 row2\" >2</th>\n",
       "                        <td id=\"T_264f1bec_cc0a_11ed_8cbb_54e1adc9055drow2_col0\" class=\"data row2 col0\" >conv_pool_02.0.weight</td>\n",
       "                        <td id=\"T_264f1bec_cc0a_11ed_8cbb_54e1adc9055drow2_col1\" class=\"data row2 col1\" >3200</td>\n",
       "            </tr>\n",
       "            <tr>\n",
       "                        <th id=\"T_264f1bec_cc0a_11ed_8cbb_54e1adc9055dlevel0_row3\" class=\"row_heading level0 row3\" >3</th>\n",
       "                        <td id=\"T_264f1bec_cc0a_11ed_8cbb_54e1adc9055drow3_col0\" class=\"data row3 col0\" >conv_pool_02.0.bias</td>\n",
       "                        <td id=\"T_264f1bec_cc0a_11ed_8cbb_54e1adc9055drow3_col1\" class=\"data row3 col1\" >16</td>\n",
       "            </tr>\n",
       "            <tr>\n",
       "                        <th id=\"T_264f1bec_cc0a_11ed_8cbb_54e1adc9055dlevel0_row4\" class=\"row_heading level0 row4\" >4</th>\n",
       "                        <td id=\"T_264f1bec_cc0a_11ed_8cbb_54e1adc9055drow4_col0\" class=\"data row4 col0\" >FC_01.weight</td>\n",
       "                        <td id=\"T_264f1bec_cc0a_11ed_8cbb_54e1adc9055drow4_col1\" class=\"data row4 col1\" >32768</td>\n",
       "            </tr>\n",
       "            <tr>\n",
       "                        <th id=\"T_264f1bec_cc0a_11ed_8cbb_54e1adc9055dlevel0_row5\" class=\"row_heading level0 row5\" >5</th>\n",
       "                        <td id=\"T_264f1bec_cc0a_11ed_8cbb_54e1adc9055drow5_col0\" class=\"data row5 col0\" >FC_01.bias</td>\n",
       "                        <td id=\"T_264f1bec_cc0a_11ed_8cbb_54e1adc9055drow5_col1\" class=\"data row5 col1\" >128</td>\n",
       "            </tr>\n",
       "            <tr>\n",
       "                        <th id=\"T_264f1bec_cc0a_11ed_8cbb_54e1adc9055dlevel0_row6\" class=\"row_heading level0 row6\" >6</th>\n",
       "                        <td id=\"T_264f1bec_cc0a_11ed_8cbb_54e1adc9055drow6_col0\" class=\"data row6 col0\" >FC_02.weight</td>\n",
       "                        <td id=\"T_264f1bec_cc0a_11ed_8cbb_54e1adc9055drow6_col1\" class=\"data row6 col1\" >8192</td>\n",
       "            </tr>\n",
       "            <tr>\n",
       "                        <th id=\"T_264f1bec_cc0a_11ed_8cbb_54e1adc9055dlevel0_row7\" class=\"row_heading level0 row7\" >7</th>\n",
       "                        <td id=\"T_264f1bec_cc0a_11ed_8cbb_54e1adc9055drow7_col0\" class=\"data row7 col0\" >FC_02.bias</td>\n",
       "                        <td id=\"T_264f1bec_cc0a_11ed_8cbb_54e1adc9055drow7_col1\" class=\"data row7 col1\" >64</td>\n",
       "            </tr>\n",
       "            <tr>\n",
       "                        <th id=\"T_264f1bec_cc0a_11ed_8cbb_54e1adc9055dlevel0_row8\" class=\"row_heading level0 row8\" >8</th>\n",
       "                        <td id=\"T_264f1bec_cc0a_11ed_8cbb_54e1adc9055drow8_col0\" class=\"data row8 col0\" >FC_03.weight</td>\n",
       "                        <td id=\"T_264f1bec_cc0a_11ed_8cbb_54e1adc9055drow8_col1\" class=\"data row8 col1\" >640</td>\n",
       "            </tr>\n",
       "            <tr>\n",
       "                        <th id=\"T_264f1bec_cc0a_11ed_8cbb_54e1adc9055dlevel0_row9\" class=\"row_heading level0 row9\" >9</th>\n",
       "                        <td id=\"T_264f1bec_cc0a_11ed_8cbb_54e1adc9055drow9_col0\" class=\"data row9 col0\" >FC_03.bias</td>\n",
       "                        <td id=\"T_264f1bec_cc0a_11ed_8cbb_54e1adc9055drow9_col1\" class=\"data row9 col1\" >10</td>\n",
       "            </tr>\n",
       "    </tbody></table>"
      ],
      "text/plain": [
       "<pandas.io.formats.style.Styler at 0x237c0877cf8>"
      ]
     },
     "execution_count": 24,
     "metadata": {},
     "output_type": "execute_result"
    }
   ],
   "source": [
    "def count_params(model):\n",
    "    model_params = {\"Modules\": list(), \"Parameters\": list()}\n",
    "    total = 0\n",
    "    for name, parameters in model.named_parameters():\n",
    "        if not parameters.requires_grad:\n",
    "            continue\n",
    "        param = parameters.numel()\n",
    "        model_params[\"Modules\"].append(name)\n",
    "        model_params[\"Parameters\"].append(param)\n",
    "        total += param\n",
    "    df = pd.DataFrame(model_params)\n",
    "    df = df.style.set_caption(f\"Total trainable parameters: {total}\")\n",
    "    return df\n",
    "\n",
    "count_params(model)"
   ]
  },
  {
   "attachments": {},
   "cell_type": "markdown",
   "id": "c2b24c8f",
   "metadata": {},
   "source": [
    "## Traning loop"
   ]
  },
  {
   "cell_type": "code",
   "execution_count": 17,
   "id": "5faa2f88",
   "metadata": {},
   "outputs": [],
   "source": [
    "learning_rate = 0.001\n",
    "num_epochs = 20"
   ]
  },
  {
   "cell_type": "code",
   "execution_count": 18,
   "id": "a08d2141",
   "metadata": {},
   "outputs": [],
   "source": [
    "criterion = nn.CrossEntropyLoss()\n",
    "optimizer = torch.optim.Adam(model.parameters(), lr=learning_rate)"
   ]
  },
  {
   "cell_type": "code",
   "execution_count": 19,
   "id": "1b2e803d",
   "metadata": {},
   "outputs": [
    {
     "data": {
      "text/plain": [
       "938"
      ]
     },
     "execution_count": 19,
     "metadata": {},
     "output_type": "execute_result"
    }
   ],
   "source": [
    "n_total_steps = len(train_data_loader)\n",
    "n_total_steps"
   ]
  },
  {
   "cell_type": "code",
   "execution_count": 20,
   "id": "a37fa6d3",
   "metadata": {},
   "outputs": [
    {
     "data": {
      "text/plain": [
       "937.5"
      ]
     },
     "execution_count": 20,
     "metadata": {},
     "output_type": "execute_result"
    }
   ],
   "source": [
    "60000/BATCH_SIZE"
   ]
  },
  {
   "cell_type": "code",
   "execution_count": 25,
   "id": "715b4d77",
   "metadata": {},
   "outputs": [
    {
     "name": "stderr",
     "output_type": "stream",
     "text": [
      "Epoch 1/20: 100%|██████████| 938/938 [00:32<00:00, 28.85it/s, loss=2.3] \n",
      "Epoch 2/20: 100%|██████████| 938/938 [00:32<00:00, 28.92it/s, loss=2.31]\n",
      "Epoch 3/20: 100%|██████████| 938/938 [00:30<00:00, 30.54it/s, loss=2.29]\n",
      "Epoch 4/20: 100%|██████████| 938/938 [00:32<00:00, 28.87it/s, loss=2.3] \n",
      "Epoch 5/20: 100%|██████████| 938/938 [00:25<00:00, 36.49it/s, loss=2.29]\n",
      "Epoch 6/20: 100%|██████████| 938/938 [00:28<00:00, 32.81it/s, loss=2.31]\n",
      "Epoch 7/20: 100%|██████████| 938/938 [00:30<00:00, 30.46it/s, loss=2.31]\n",
      "Epoch 8/20: 100%|██████████| 938/938 [00:30<00:00, 30.86it/s, loss=2.3] \n",
      "Epoch 9/20: 100%|██████████| 938/938 [00:32<00:00, 28.67it/s, loss=2.3] \n",
      "Epoch 10/20: 100%|██████████| 938/938 [00:33<00:00, 27.88it/s, loss=2.3] \n",
      "Epoch 11/20: 100%|██████████| 938/938 [00:33<00:00, 28.03it/s, loss=2.31]\n",
      "Epoch 12/20: 100%|██████████| 938/938 [00:30<00:00, 30.93it/s, loss=2.3] \n",
      "Epoch 13/20: 100%|██████████| 938/938 [00:34<00:00, 27.41it/s, loss=2.3] \n",
      "Epoch 14/20: 100%|██████████| 938/938 [00:32<00:00, 29.19it/s, loss=2.3] \n",
      "Epoch 15/20: 100%|██████████| 938/938 [00:28<00:00, 32.56it/s, loss=2.3] \n",
      "Epoch 16/20: 100%|██████████| 938/938 [00:33<00:00, 28.40it/s, loss=2.3] \n",
      "Epoch 17/20: 100%|██████████| 938/938 [00:32<00:00, 28.68it/s, loss=2.29]\n",
      "Epoch 18/20: 100%|██████████| 938/938 [00:34<00:00, 26.90it/s, loss=2.3] \n",
      "Epoch 19/20: 100%|██████████| 938/938 [00:46<00:00, 20.01it/s, loss=2.3] \n",
      "Epoch 20/20: 100%|██████████| 938/938 [00:40<00:00, 23.13it/s, loss=2.32]\n"
     ]
    }
   ],
   "source": [
    "for epoch in range(num_epochs):\n",
    "    with tqdm(train_data_loader) as tqdm_epoch:\n",
    "        for images, labels in tqdm_epoch:\n",
    "            tqdm_epoch.set_description(f\"Epoch {epoch + 1}/{num_epochs}\")\n",
    "            \n",
    "            images = images.to(device)\n",
    "            labels = labels.to(device)   \n",
    "            \n",
    "            # forward pass\n",
    "            outputs = model(images)\n",
    "            loss = criterion(outputs, labels)\n",
    "            \n",
    "            # backward prop\n",
    "            optimizer.zero_grad()\n",
    "            loss.backward()\n",
    "            optimizer.step()\n",
    "            tqdm_epoch.set_postfix(loss=loss.item())"
   ]
  },
  {
   "attachments": {},
   "cell_type": "markdown",
   "id": "19a2c185",
   "metadata": {},
   "source": [
    "## save trained model -"
   ]
  },
  {
   "cell_type": "code",
   "execution_count": 26,
   "id": "c28b72d1",
   "metadata": {},
   "outputs": [],
   "source": [
    "## save trained model -\n",
    "os.makedirs(\"06_03_session_dir\", exist_ok=True)\n",
    "modle_file = os.path.join(\"06_03_session_dir\", 'CNN_model.pth')\n",
    "torch.save(model, modle_file)"
   ]
  },
  {
   "cell_type": "code",
   "execution_count": 27,
   "id": "d59ddfa9",
   "metadata": {},
   "outputs": [],
   "source": [
    "model = torch.load(\"06_03_session_dir/CNN_model.pth\")"
   ]
  },
  {
   "cell_type": "code",
   "execution_count": 28,
   "id": "c948f46e",
   "metadata": {},
   "outputs": [],
   "source": [
    "pred = np.array([])\n",
    "target = np.array([])\n",
    "\n",
    "with torch.no_grad():\n",
    "    for batch, data in enumerate(test_data_loader):\n",
    "        image, label = data[0].to(device), data[1].to(device)\n",
    "        \n",
    "        y_pred = model(image)\n",
    "        \n",
    "        pred = np.concatenate((pred, torch.argmax(y_pred, 1).cpu().numpy()))\n",
    "        target = np.concatenate((target, label.cpu().numpy()))"
   ]
  },
  {
   "cell_type": "code",
   "execution_count": 29,
   "id": "13a9b038",
   "metadata": {},
   "outputs": [],
   "source": [
    "cm = confusion_matrix(target, pred)"
   ]
  },
  {
   "cell_type": "code",
   "execution_count": 30,
   "id": "ec09a110",
   "metadata": {},
   "outputs": [
    {
     "data": {
      "text/plain": [
       "<AxesSubplot:>"
      ]
     },
     "execution_count": 30,
     "metadata": {},
     "output_type": "execute_result"
    },
    {
     "data": {
      "image/png": "[encoded data removed]",
      "text/plain": [
       "<Figure size 1200x1000 with 1 Axes>"
      ]
     },
     "metadata": {},
     "output_type": "display_data"
    }
   ],
   "source": [
    "plt.figure(figsize=(12,10))\n",
    "sns.heatmap(cm, annot=True, fmt='d', xticklabels=label_map.values(), yticklabels=label_map.values(), cbar=False)"
   ]
  },
  {
   "attachments": {},
   "cell_type": "markdown",
   "id": "a985c6ed",
   "metadata": {},
   "source": [
    "## predictions"
   ]
  },
  {
   "cell_type": "code",
   "execution_count": 31,
   "id": "e3154c79",
   "metadata": {},
   "outputs": [
    {
     "data": {
      "text/plain": [
       "[tensor([[[[0.0000, 0.0000, 0.0000,  ..., 0.0000, 0.0000, 0.0000],\n",
       "           [0.0000, 0.0000, 0.0000,  ..., 0.0000, 0.0000, 0.0000],\n",
       "           [0.0000, 0.0000, 0.0000,  ..., 0.0000, 0.0000, 0.0000],\n",
       "           ...,\n",
       "           [0.0000, 0.0000, 0.0000,  ..., 0.0000, 0.0000, 0.0000],\n",
       "           [0.0000, 0.0000, 0.0000,  ..., 0.0000, 0.0000, 0.0000],\n",
       "           [0.0000, 0.0000, 0.0000,  ..., 0.0000, 0.0000, 0.0000]]],\n",
       " \n",
       " \n",
       "         [[[0.0000, 0.0000, 0.0000,  ..., 0.0000, 0.0000, 0.0000],\n",
       "           [0.0000, 0.0000, 0.0000,  ..., 0.0000, 0.0000, 0.0000],\n",
       "           [0.0000, 0.0000, 0.0000,  ..., 0.0000, 0.0000, 0.0000],\n",
       "           ...,\n",
       "           [0.0000, 0.0000, 0.0000,  ..., 0.0000, 0.0000, 0.0000],\n",
       "           [0.0000, 0.0000, 0.0000,  ..., 0.0000, 0.0000, 0.0000],\n",
       "           [0.0000, 0.0000, 0.0000,  ..., 0.0000, 0.0000, 0.0000]]],\n",
       " \n",
       " \n",
       "         [[[0.0000, 0.0000, 0.0000,  ..., 0.0000, 0.0000, 0.0000],\n",
       "           [0.0000, 0.0000, 0.0000,  ..., 0.0000, 0.0000, 0.0000],\n",
       "           [0.0000, 0.0000, 0.0000,  ..., 0.0000, 0.0000, 0.0000],\n",
       "           ...,\n",
       "           [0.0000, 0.0000, 0.0000,  ..., 0.0000, 0.0000, 0.0000],\n",
       "           [0.0000, 0.0000, 0.0000,  ..., 0.0000, 0.0000, 0.0000],\n",
       "           [0.0000, 0.0000, 0.0000,  ..., 0.0000, 0.0000, 0.0000]]],\n",
       " \n",
       " \n",
       "         ...,\n",
       " \n",
       " \n",
       "         [[[0.0000, 0.0000, 0.0000,  ..., 0.0118, 0.0000, 0.0000],\n",
       "           [0.0000, 0.0000, 0.0000,  ..., 0.0039, 0.0000, 0.0000],\n",
       "           [0.0000, 0.0000, 0.0000,  ..., 0.0000, 0.0000, 0.0000],\n",
       "           ...,\n",
       "           [0.0000, 0.1765, 0.7412,  ..., 0.7961, 0.0000, 0.0000],\n",
       "           [0.0000, 0.4000, 0.8314,  ..., 1.0000, 0.0000, 0.0000],\n",
       "           [0.0000, 0.0000, 0.0000,  ..., 0.1765, 0.0000, 0.0000]]],\n",
       " \n",
       " \n",
       "         [[[0.0000, 0.0000, 0.0000,  ..., 0.0000, 0.0000, 0.0000],\n",
       "           [0.0000, 0.0000, 0.0000,  ..., 0.0000, 0.0000, 0.0000],\n",
       "           [0.0000, 0.0000, 0.0000,  ..., 0.0000, 0.0000, 0.0000],\n",
       "           ...,\n",
       "           [0.0000, 0.0000, 0.0000,  ..., 0.0000, 0.0000, 0.0000],\n",
       "           [0.0000, 0.0000, 0.0000,  ..., 0.0000, 0.0000, 0.0000],\n",
       "           [0.0000, 0.0000, 0.0000,  ..., 0.0000, 0.0000, 0.0000]]],\n",
       " \n",
       " \n",
       "         [[[0.0078, 0.0078, 0.0078,  ..., 0.0000, 0.0000, 0.0078],\n",
       "           [0.0078, 0.0078, 0.0078,  ..., 0.0078, 0.0000, 0.0078],\n",
       "           [0.0078, 0.0078, 0.0078,  ..., 0.0078, 0.0000, 0.0078],\n",
       "           ...,\n",
       "           [0.0000, 0.7137, 0.7412,  ..., 0.4745, 0.3137, 0.0000],\n",
       "           [0.0000, 0.1137, 0.7882,  ..., 0.4471, 0.2824, 0.0000],\n",
       "           [0.0078, 0.0000, 0.1608,  ..., 0.2078, 0.0353, 0.0000]]]]),\n",
       " tensor([9, 9, 0, 8, 4, 8, 3, 4, 0, 8, 1, 3, 8, 3, 6, 3, 3, 3, 3, 4, 0, 8, 6, 5,\n",
       "         9, 0, 3, 4, 8, 1, 2, 2, 4, 7, 8, 1, 2, 9, 5, 6, 0, 3, 6, 8, 1, 7, 8, 3,\n",
       "         2, 5, 1, 1, 0, 7, 0, 0, 9, 6, 2, 3, 4, 5, 1, 8])]"
      ]
     },
     "execution_count": 31,
     "metadata": {},
     "output_type": "execute_result"
    }
   ],
   "source": [
    "data = next(iter(test_data_loader))\n",
    "data"
   ]
  },
  {
   "cell_type": "code",
   "execution_count": 32,
   "id": "82da04a1",
   "metadata": {},
   "outputs": [
    {
     "name": "stdout",
     "output_type": "stream",
     "text": [
      "torch.Size([1, 28, 28])\n"
     ]
    },
    {
     "data": {
      "text/plain": [
       "' Dress'"
      ]
     },
     "execution_count": 32,
     "metadata": {},
     "output_type": "execute_result"
    },
    {
     "data": {
      "image/png": "[encoded data removed]",
      "text/plain": [
       "<Figure size 640x480 with 1 Axes>"
      ]
     },
     "metadata": {},
     "output_type": "display_data"
    }
   ],
   "source": [
    "img = images[0]\n",
    "print(img.shape)\n",
    "plt.imshow(img.permute(1,2,0), cmap=\"gray\")\n",
    "label_map[label[0].item()]"
   ]
  },
  {
   "cell_type": "code",
   "execution_count": 33,
   "id": "ed17310c",
   "metadata": {},
   "outputs": [
    {
     "data": {
      "text/plain": [
       "(torch.Size([1, 28, 28]), torch.Size([28, 28]), torch.Size([1, 1, 28, 28]))"
      ]
     },
     "execution_count": 33,
     "metadata": {},
     "output_type": "execute_result"
    }
   ],
   "source": [
    "img.shape, img.squeeze().shape, img.unsqueeze(1).shape"
   ]
  },
  {
   "cell_type": "code",
   "execution_count": 34,
   "id": "094f863b",
   "metadata": {},
   "outputs": [
    {
     "data": {
      "text/plain": [
       "tensor([[ 0.0715,  0.0780,  0.1077,  0.0525,  0.0266,  0.0905, -0.0132, -0.0855,\n",
       "          0.1010, -0.0246]], grad_fn=<AddmmBackward0>)"
      ]
     },
     "execution_count": 34,
     "metadata": {},
     "output_type": "execute_result"
    }
   ],
   "source": [
    "logit = model(img.unsqueeze(1).to(device))\n",
    "logit"
   ]
  },
  {
   "cell_type": "code",
   "execution_count": 35,
   "id": "d491d588",
   "metadata": {},
   "outputs": [
    {
     "data": {
      "text/plain": [
       "-13.043000000000001"
      ]
     },
     "execution_count": 35,
     "metadata": {},
     "output_type": "execute_result"
    }
   ],
   "source": [
    "sum([ 7.1967, -2.9418,  2.8013,  3.3049, -1.9232, -3.9252,  2.8830, -6.2832,\n",
    "         -6.1457, -8.0098])"
   ]
  },
  {
   "cell_type": "code",
   "execution_count": 36,
   "id": "1be1aada",
   "metadata": {},
   "outputs": [
    {
     "data": {
      "text/plain": [
       "tensor([[0.1030, 0.1036, 0.1068, 0.1010, 0.0984, 0.1049, 0.0946, 0.0880, 0.1061,\n",
       "         0.0935]], grad_fn=<SoftmaxBackward0>)"
      ]
     },
     "execution_count": 36,
     "metadata": {},
     "output_type": "execute_result"
    }
   ],
   "source": [
    "pred_prob = F.softmax(logit, dim=1)\n",
    "pred_prob"
   ]
  },
  {
   "cell_type": "code",
   "execution_count": 37,
   "id": "1e0eb6b8",
   "metadata": {},
   "outputs": [
    {
     "data": {
      "text/plain": [
       "0.9999966498400003"
      ]
     },
     "execution_count": 37,
     "metadata": {},
     "output_type": "execute_result"
    }
   ],
   "source": [
    "sum([9.5575e-01, 3.7780e-05, 1.1789e-02, 1.9506e-02, 1.0463e-04, 1.4131e-05,\n",
    "         1.2792e-02, 1.3369e-06, 1.5341e-06, 2.3784e-07])"
   ]
  },
  {
   "cell_type": "code",
   "execution_count": 38,
   "id": "a0bedde1",
   "metadata": {},
   "outputs": [
    {
     "data": {
      "text/plain": [
       "2"
      ]
     },
     "execution_count": 38,
     "metadata": {},
     "output_type": "execute_result"
    }
   ],
   "source": [
    "argmax = torch.argmax(pred_prob).item()\n",
    "argmax"
   ]
  },
  {
   "cell_type": "code",
   "execution_count": 39,
   "id": "019874de",
   "metadata": {},
   "outputs": [
    {
     "data": {
      "text/plain": [
       "'Pullover'"
      ]
     },
     "execution_count": 39,
     "metadata": {},
     "output_type": "execute_result"
    }
   ],
   "source": [
    "label_map[argmax]"
   ]
  },
  {
   "cell_type": "code",
   "execution_count": 41,
   "id": "47b0351b",
   "metadata": {},
   "outputs": [],
   "source": [
    "def predict(data, model, label_map, device, idx=0):\n",
    "    images, labels = data\n",
    "    img = images[idx]\n",
    "    label = labels[idx]\n",
    "    \n",
    "    plt.imshow(img.permute(1,2,0), cmap=\"gray\")\n",
    "    reshaped_img = img.unsqueeze(1).to(device)\n",
    "    logits = model(reshaped_img)\n",
    "    pred_prob = F.softmax(logits, dim=1)\n",
    "    argmax = torch.argmax(pred_prob).item()\n",
    "    predicted_label = label_map[argmax]\n",
    "    actual_label = label_map[label.item()]\n",
    "    plt.title(f\"actual: {actual_label} | predicted: {predicted_label}\")\n",
    "    return predicted_label, actual_label"
   ]
  },
  {
   "cell_type": "code",
   "execution_count": 42,
   "id": "9f7b4a3c",
   "metadata": {},
   "outputs": [
    {
     "data": {
      "text/plain": [
       "('Bag', 'T-shirt/top')"
      ]
     },
     "execution_count": 42,
     "metadata": {},
     "output_type": "execute_result"
    },
    {
     "data": {
      "image/png": "[encoded data removed]",
      "text/plain": [
       "<Figure size 640x480 with 1 Axes>"
      ]
     },
     "metadata": {},
     "output_type": "display_data"
    }
   ],
   "source": [
    "data = next(iter(test_data_loader))\n",
    "predict(data, model, label_map, device, idx=0)"
   ]
  },
  {
   "cell_type": "code",
   "execution_count": null,
   "id": "2b6982c9",
   "metadata": {},
   "outputs": [],
   "source": [
    "# [batch_size, channel, row, col] -->> [1,1,28,28]"
   ]
  }
 ],
 "metadata": {
  "kernelspec": {
   "display_name": "Python 3 (ipykernel)",
   "language": "python",
   "name": "python3"
  },
  "language_info": {
   "codemirror_mode": {
    "name": "ipython",
    "version": 3
   },
   "file_extension": ".py",
   "mimetype": "text/x-python",
   "name": "python",
   "nbconvert_exporter": "python",
   "pygments_lexer": "ipython3",
   "version": "3.7.0"
  }
 },
 "nbformat": 4,
 "nbformat_minor": 5
}
